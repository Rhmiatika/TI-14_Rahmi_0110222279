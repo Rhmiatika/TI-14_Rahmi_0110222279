{
 "cells": [
  {
   "cell_type": "code",
   "execution_count": null,
   "id": "42f363f9",
   "metadata": {},
   "outputs": [],
   "source": [
    "import pandas as pd"
   ]
  }
 ],
 "metadata": {
  "kernelspec": {
   "display_name": "base",
   "language": "python",
   "name": "python3"
  },
  "language_info": {
   "name": "python",
   "version": "3.9.12"
  }
 },
 "nbformat": 4,
 "nbformat_minor": 5
}
